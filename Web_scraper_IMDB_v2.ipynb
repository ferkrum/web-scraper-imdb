{
  "nbformat": 4,
  "nbformat_minor": 0,
  "metadata": {
    "colab": {
      "name": "Aula 31b - Web scraping IMDB v2.ipynb",
      "provenance": [],
      "collapsed_sections": [],
      "include_colab_link": true
    },
    "kernelspec": {
      "name": "python3",
      "display_name": "Python 3"
    },
    "language_info": {
      "name": "python"
    }
  },
  "cells": [
    {
      "cell_type": "markdown",
      "metadata": {
        "id": "view-in-github",
        "colab_type": "text"
      },
      "source": [
        "<a href=\"https://colab.research.google.com/github/ferkrum/web-scraper-imdb/blob/main/Web_scraper_IMDB_v2.ipynb\" target=\"_parent\"><img src=\"https://colab.research.google.com/assets/colab-badge.svg\" alt=\"Open In Colab\"/></a>"
      ]
    },
    {
      "cell_type": "markdown",
      "source": [
        "# Obtendo lista atualizada de lançamentos de filmes do IMDB \n",
        "\n",
        "Como obter uma lista atualizada com os últimos lançamentos de filmes do IMDB?\n",
        "\n",
        "Fizemos um scraping usando a biblioteca Beautiful Soup e criamos um dataframe para visualização e exportação (arquivo CSV) dos resultados ao usuário. \n",
        "\n",
        "\n",
        "---\n",
        "*Version history:\n",
        "v2: adicionei o campo de data de lançamento ao dataframe italicized text*"
      ],
      "metadata": {
        "id": "Dbgj36qCYhtj"
      }
    },
    {
      "cell_type": "code",
      "source": [
        "#Importa bibliotecas\n",
        "import requests\n",
        "from bs4 import BeautifulSoup"
      ],
      "metadata": {
        "id": "09arNANt-8c5"
      },
      "execution_count": null,
      "outputs": []
    },
    {
      "cell_type": "code",
      "source": [
        "# parsing\n",
        "response = requests.get('https://www.imdb.com/calendar/?ref_=nv_mv_cal').content\n",
        "soup = BeautifulSoup(response, 'html.parser')"
      ],
      "metadata": {
        "id": "LQzwdMLgTK8N"
      },
      "execution_count": null,
      "outputs": []
    },
    {
      "cell_type": "code",
      "source": [
        "#verifica conteúdo do parser\n",
        "soup"
      ],
      "metadata": {
        "id": "H4M9iHwvdzJK"
      },
      "execution_count": null,
      "outputs": []
    },
    {
      "cell_type": "markdown",
      "source": [
        "Abrindo a URL no navegador, inspecionamos o código e identificamos as tags relacionadas ao conteúdo buscado: div id=main"
      ],
      "metadata": {
        "id": "tTYTCI2bZwXQ"
      }
    },
    {
      "cell_type": "code",
      "source": [
        "lancamentos = soup.find(\"div\",id=\"main\")"
      ],
      "metadata": {
        "id": "vO8meLrrd0dZ"
      },
      "execution_count": null,
      "outputs": []
    },
    {
      "cell_type": "code",
      "source": [
        "#confere conteudo filtrado em lancamentos\n",
        "lancamentos"
      ],
      "metadata": {
        "id": "TSspYD5Lc3AP"
      },
      "execution_count": null,
      "outputs": []
    },
    {
      "cell_type": "markdown",
      "source": [
        "\n",
        "```\n",
        "Notamos que para cada header 4, temos uma lista não numerada <ul>. \n",
        "Vamos usar essa estrutura para adicionar a coluna de data ao Data Frame.\n",
        "```\n",
        "\n"
      ],
      "metadata": {
        "id": "1ryj1xlSt44b"
      }
    },
    {
      "cell_type": "code",
      "source": [
        "#buscando as datas dos lancamentos\n",
        "datas = lancamentos.find_all(\"h4\")"
      ],
      "metadata": {
        "id": "VKeqLbANiQu-"
      },
      "execution_count": null,
      "outputs": []
    },
    {
      "cell_type": "code",
      "source": [
        "#qtdade de datas diferentes \n",
        "len(datas)"
      ],
      "metadata": {
        "colab": {
          "base_uri": "https://localhost:8080/"
        },
        "id": "gXK947pIiWdw",
        "outputId": "7353c096-0cf8-4d85-de71-cd1f64796ec8"
      },
      "execution_count": null,
      "outputs": [
        {
          "output_type": "execute_result",
          "data": {
            "text/plain": [
              "60"
            ]
          },
          "metadata": {},
          "execution_count": 54
        }
      ]
    },
    {
      "cell_type": "code",
      "source": [
        "datas"
      ],
      "metadata": {
        "id": "LOCgbWpipjoQ"
      },
      "execution_count": null,
      "outputs": []
    },
    {
      "cell_type": "code",
      "source": [
        "#fimes em cada data encontrada \n",
        "datasFilmes = lancamentos.find_all(\"ul\")"
      ],
      "metadata": {
        "id": "39t2DrqLieKN"
      },
      "execution_count": null,
      "outputs": []
    },
    {
      "cell_type": "code",
      "source": [
        "#confirma que é a mesma quantidade de datas vista celula anterior \n",
        "len(datasFilmes)"
      ],
      "metadata": {
        "colab": {
          "base_uri": "https://localhost:8080/"
        },
        "id": "boNVI1LFi2d9",
        "outputId": "7d8bc8a8-633e-4c7f-8b3e-5983c3be6798"
      },
      "execution_count": null,
      "outputs": [
        {
          "output_type": "execute_result",
          "data": {
            "text/plain": [
              "60"
            ]
          },
          "metadata": {},
          "execution_count": 33
        }
      ]
    },
    {
      "cell_type": "code",
      "source": [
        "#armazena quantidade de filmes\n",
        "qtdadeFilmes = len(lancamentos.find_all(\"a\"))"
      ],
      "metadata": {
        "id": "w1-r4aqxr74-"
      },
      "execution_count": null,
      "outputs": []
    },
    {
      "cell_type": "code",
      "source": [
        "#testando...\n",
        "datasFilmes[59].find_all(\"a\")"
      ],
      "metadata": {
        "colab": {
          "base_uri": "https://localhost:8080/"
        },
        "id": "B2yN_2qqnTFs",
        "outputId": "22e1be2c-10b7-47c6-c583-30811e74de91"
      },
      "execution_count": null,
      "outputs": [
        {
          "output_type": "execute_result",
          "data": {
            "text/plain": [
              "[<a href=\"/title/tt1462764/?ref_=rlm\">Indiana Jones 5</a>,\n",
              " <a href=\"/title/tt7890826/?ref_=rlm\">Naya Legend of the Golden Dolphin</a>]"
            ]
          },
          "metadata": {},
          "execution_count": 53
        }
      ]
    },
    {
      "cell_type": "code",
      "source": [
        "datas[0].text"
      ],
      "metadata": {
        "colab": {
          "base_uri": "https://localhost:8080/",
          "height": 35
        },
        "id": "6jUA04r7puYm",
        "outputId": "80a73319-4738-411c-c1b8-00b6341a11c1"
      },
      "execution_count": null,
      "outputs": [
        {
          "output_type": "execute_result",
          "data": {
            "text/plain": [
              "'08 July 2022'"
            ],
            "application/vnd.google.colaboratory.intrinsic+json": {
              "type": "string"
            }
          },
          "metadata": {},
          "execution_count": 58
        }
      ]
    },
    {
      "cell_type": "code",
      "source": [
        "for j in datasFilmes[0].find_all(\"a\"):\n",
        "  print(j.text)"
      ],
      "metadata": {
        "colab": {
          "base_uri": "https://localhost:8080/"
        },
        "id": "bHT4nw-HpyVW",
        "outputId": "57398f3c-06b8-4d10-fa53-98d4a23b7f72"
      },
      "execution_count": null,
      "outputs": [
        {
          "output_type": "stream",
          "name": "stdout",
          "text": [
            "Thor: Love and Thunder\n",
            "Murina\n"
          ]
        }
      ]
    },
    {
      "cell_type": "code",
      "source": [
        "contaDatas = 0\n",
        "indice = 0\n",
        "dictLancamentos = {}\n",
        "for i in datas:                                   #percorre as datas\n",
        "  for j in datasFilmes[contaDatas].find_all(\"a\"): #percorre todos itens para cada data\n",
        "    indice += 1\n",
        "    print (indice, \" de \", qtdadeFilmes, end = ' ')\n",
        "    print (i.text, end = ' ')\n",
        "    \n",
        "    response2 = requests.get(\"https://www.imdb.com\"+j[\"href\"]).content  #cria novo request para a url contida em cada elemento \"href\", ou seja, ira obter o conteúdo de cada página associada a cada novo filme da página\n",
        "    soup2 = BeautifulSoup(response2, 'html.parser')                     #parser do conteúdo\n",
        "    print(\"Dados do filme: \", j.text)\n",
        "    sinopse = soup2.find(\"span\",class_=\"sc-16ede01-2 gXUyNh\").text      #armazena em sinopse o conteudo obtido em cada pagina\n",
        "  \n",
        "    dictLancamentos[indice] = {\"nome\" : j.text, \"data lancamento\" : i.text, \" url\" : \"https://www.imdb.com\"+j[\"href\"], \"sinopse\" : sinopse}\n",
        "  contaDatas+=1\n",
        "#print(contaDatas)"
      ],
      "metadata": {
        "colab": {
          "base_uri": "https://localhost:8080/"
        },
        "id": "UtETkUK8iojj",
        "outputId": "228ae6b8-ac5b-46b7-a15d-9525461c81f9"
      },
      "execution_count": null,
      "outputs": [
        {
          "output_type": "stream",
          "name": "stdout",
          "text": [
            "1  de  100 08 July 2022 Dados do filme:  Thor: Love and Thunder\n",
            "2  de  100 08 July 2022 Dados do filme:  Murina\n",
            "3  de  100 13 July 2022 Dados do filme:  The Deer King\n",
            "4  de  100 15 July 2022 Dados do filme:  Where the Crawdads Sing\n",
            "5  de  100 15 July 2022 Dados do filme:  Paws of Fury: The Legend of Hank\n",
            "6  de  100 15 July 2022 Dados do filme:  Mrs Harris Goes to Paris\n",
            "7  de  100 22 July 2022 Dados do filme:  Nope\n",
            "8  de  100 22 July 2022 Dados do filme:  How to Please a Woman\n",
            "9  de  100 22 July 2022 Dados do filme:  Alone Together\n",
            "10  de  100 22 July 2022 Dados do filme:  My Old School\n",
            "11  de  100 29 July 2022 Dados do filme:  Thirteen Lives\n",
            "12  de  100 29 July 2022 Dados do filme:  DC League of Super-Pets\n",
            "13  de  100 29 July 2022 Dados do filme:  The Reef: Stalked\n",
            "14  de  100 29 July 2022 Dados do filme:  Vengeance\n",
            "15  de  100 29 July 2022 Dados do filme:  Resurrection\n",
            "16  de  100 29 July 2022 Dados do filme:  Ali & Ava\n",
            "17  de  100 05 August 2022 Dados do filme:  Bullet Train\n",
            "18  de  100 05 August 2022 Dados do filme:  Bodies Bodies Bodies\n",
            "19  de  100 05 August 2022 Dados do filme:  Easter Sunday\n",
            "20  de  100 05 August 2022 Dados do filme:  Secret Headquarters\n",
            "21  de  100 05 August 2022 Dados do filme:  I Love My Dad\n",
            "22  de  100 09 August 2022 Dados do filme:  Pil's Adventures\n",
            "23  de  100 12 August 2022 Dados do filme:  Fall\n",
            "24  de  100 12 August 2022 Dados do filme:  Mack & Rita\n",
            "25  de  100 18 August 2022 Dados do filme:  Dragon Ball Super: Super Hero\n",
            "26  de  100 19 August 2022 Dados do filme:  Beast\n",
            "27  de  100 19 August 2022 Dados do filme:  The Drover's Wife\n",
            "28  de  100 26 August 2022 Dados do filme:  The Invitation\n",
            "29  de  100 26 August 2022 Dados do filme:  Samaritan\n",
            "30  de  100 28 August 2022 Dados do filme:  Unthinkably Good Things\n",
            "31  de  100 31 August 2022 Dados do filme:  Barbarian\n",
            "32  de  100 31 August 2022 Dados do filme:  Three Thousand Years of Longing\n",
            "33  de  100 02 September 2022 Dados do filme:  Honk for Jesus. Save Your Soul.\n",
            "34  de  100 07 September 2022 Dados do filme:  After Ever Happy\n",
            "35  de  100 09 September 2022 Dados do filme:  Salem's Lot\n",
            "36  de  100 09 September 2022 Dados do filme:  True Things\n",
            "37  de  100 09 September 2022 Dados do filme:  Dark Harvest\n",
            "38  de  100 09 September 2022 Dados do filme:  Brahmastra Part One: Shiva\n",
            "39  de  100 16 September 2022 Dados do filme:  The Woman King\n",
            "40  de  100 16 September 2022 Dados do filme:  Alphas\n",
            "41  de  100 23 September 2022 Dados do filme:  Don't Worry Darling\n",
            "42  de  100 30 September 2022 Dados do filme:  Smile\n",
            "43  de  100 30 September 2022 Dados do filme:  Bros\n",
            "44  de  100 30 September 2022 Dados do filme:  Vesper\n",
            "45  de  100 01 October 2022 Dados do filme:  Syndrome K\n",
            "46  de  100 07 October 2022 Dados do filme:  Lyle, Lyle, Crocodile\n",
            "47  de  100 07 October 2022 Dados do filme:  Till\n",
            "48  de  100 14 October 2022 Dados do filme:  Halloween Ends\n",
            "49  de  100 14 October 2022 Dados do filme:  Decision to Leave\n",
            "50  de  100 14 October 2022 Dados do filme:  White Bird: A Wonder Story\n",
            "51  de  100 15 October 2022 Dados do filme:  MK Ultra\n",
            "52  de  100 21 October 2022 Dados do filme:  Ticket to Paradise\n",
            "53  de  100 21 October 2022 Dados do filme:  Black Adam\n",
            "54  de  100 21 October 2022 Dados do filme:  The Banshees of Inisherin\n",
            "55  de  100 28 October 2022 Dados do filme:  Devotion\n",
            "56  de  100 28 October 2022 Dados do filme:  The Devil's Light\n",
            "57  de  100 02 November 2022 Dados do filme:  The Monkey King: The Legend Begins\n",
            "58  de  100 04 November 2022 Dados do filme:  Amsterdam\n",
            "59  de  100 04 November 2022 Dados do filme:  A Christmas Story Christmas\n",
            "60  de  100 04 November 2022 Dados do filme:  Eye See You\n",
            "61  de  100 11 November 2022 Dados do filme:  Black Panther: Wakanda Forever\n",
            "62  de  100 18 November 2022 Dados do filme:  The Menu\n",
            "63  de  100 18 November 2022 Dados do filme:  She Said\n",
            "64  de  100 23 November 2022 Dados do filme:  The Fabelmans\n",
            "65  de  100 23 November 2022 Dados do filme:  Strange World\n",
            "66  de  100 23 November 2022 Dados do filme:  Creed III\n",
            "67  de  100 02 December 2022 Dados do filme:  Violent Night\n",
            "68  de  100 15 December 2022 Dados do filme:  Bitch Ass\n",
            "69  de  100 16 December 2022 Dados do filme:  Avatar: The Way of Water\n",
            "70  de  100 21 December 2022 Dados do filme:  Shazam! Fury of the Gods\n",
            "71  de  100 21 December 2022 Dados do filme:  Puss in Boots: The Last Wish\n",
            "72  de  100 22 December 2022 Dados do filme:  Scoob!: Holiday Haunt\n",
            "73  de  100 25 December 2022 Dados do filme:  A Man Called Otto\n",
            "74  de  100 06 January 2023 Dados do filme:  Babylon\n",
            "75  de  100 13 January 2023 Dados do filme:  Kraven the Hunter\n",
            "76  de  100 13 January 2023 Dados do filme:  M3GAN\n",
            "77  de  100 27 January 2023 Dados do filme:  Last Voyage of the Demeter\n",
            "78  de  100 03 February 2023 Dados do filme:  Knock at the Cabin\n",
            "79  de  100 10 February 2023 Dados do filme:  It’s All Coming Back to Me\n",
            "80  de  100 17 February 2023 Dados do filme:  Ant-Man and the Wasp: Quantumania\n",
            "81  de  100 24 February 2023 Dados do filme:  Cocaine Bear\n",
            "82  de  100 03 March 2023 Dados do filme:  Dungeons & Dragons\n",
            "83  de  100 10 March 2023 Dados do filme:  Haunted Mansion\n",
            "84  de  100 17 March 2023 Dados do filme:  Aquaman and the Lost Kingdom\n",
            "85  de  100 24 March 2023 Dados do filme:  John Wick: Chapter 4\n",
            "86  de  100 31 March 2023 Dados do filme:  Scream 6\n",
            "87  de  100 07 April 2023 Dados do filme:  Untitled Illumination Entertainment Super Mario Project\n",
            "88  de  100 14 April 2023 Dados do filme:  Renfield\n",
            "89  de  100 14 April 2023 Dados do filme:  65\n",
            "90  de  100 28 April 2023 Dados do filme:  Are You There God? It's Me, Margaret\n",
            "91  de  100 30 April 2023 Dados do filme:  The Ark and the Aardvark\n",
            "92  de  100 05 May 2023 Dados do filme:  Guardians of the Galaxy Vol. 3\n",
            "93  de  100 19 May 2023 Dados do filme:  Fast X\n",
            "94  de  100 26 May 2023 Dados do filme:  The Little Mermaid\n",
            "95  de  100 02 June 2023 Dados do filme:  Spider-Man: Across the Spider-Verse\n",
            "96  de  100 09 June 2023 Dados do filme:  Transformers: Rise of the Beasts\n",
            "97  de  100 16 June 2023 Dados do filme:  Elemental\n",
            "98  de  100 23 June 2023 Dados do filme:  The Flash\n",
            "99  de  100 30 June 2023 Dados do filme:  Indiana Jones 5\n",
            "100  de  100 30 June 2023 Dados do filme:  Naya Legend of the Golden Dolphin\n"
          ]
        }
      ]
    },
    {
      "cell_type": "code",
      "source": [
        "import pandas as pd"
      ],
      "metadata": {
        "id": "UPyklCsNyxkD"
      },
      "execution_count": null,
      "outputs": []
    },
    {
      "cell_type": "code",
      "source": [
        "dfFilmes = pd.DataFrame.from_dict(dictLancamentos).T"
      ],
      "metadata": {
        "id": "Nq6-_v_h6fYj"
      },
      "execution_count": null,
      "outputs": []
    },
    {
      "cell_type": "code",
      "source": [
        "#exporta para CSV\n",
        "pd.DataFrame.from_dict(dictLancamentos).T.to_csv('lancamentos.csv')"
      ],
      "metadata": {
        "id": "13P0IuyVfqLu"
      },
      "execution_count": null,
      "outputs": []
    },
    {
      "cell_type": "code",
      "source": [
        "dfFilmes"
      ],
      "metadata": {
        "id": "eCjXN6HXBknH",
        "colab": {
          "base_uri": "https://localhost:8080/",
          "height": 424
        },
        "outputId": "3d0726b6-eb4f-49de-d960-cfb7ee2e59b7"
      },
      "execution_count": null,
      "outputs": [
        {
          "output_type": "execute_result",
          "data": {
            "text/plain": [
              "                                  nome data lancamento  \\\n",
              "1               Thor: Love and Thunder    08 July 2022   \n",
              "2                               Murina    08 July 2022   \n",
              "3                        The Deer King    13 July 2022   \n",
              "4              Where the Crawdads Sing    15 July 2022   \n",
              "5     Paws of Fury: The Legend of Hank    15 July 2022   \n",
              "..                                 ...             ...   \n",
              "96    Transformers: Rise of the Beasts    09 June 2023   \n",
              "97                           Elemental    16 June 2023   \n",
              "98                           The Flash    23 June 2023   \n",
              "99                     Indiana Jones 5    30 June 2023   \n",
              "100  Naya Legend of the Golden Dolphin    30 June 2023   \n",
              "\n",
              "                                                 url  \\\n",
              "1    https://www.imdb.com/title/tt10648342/?ref_=rlm   \n",
              "2     https://www.imdb.com/title/tt8434110/?ref_=rlm   \n",
              "3    https://www.imdb.com/title/tt11417856/?ref_=rlm   \n",
              "4     https://www.imdb.com/title/tt9411972/?ref_=rlm   \n",
              "5     https://www.imdb.com/title/tt4428398/?ref_=rlm   \n",
              "..                                               ...   \n",
              "96    https://www.imdb.com/title/tt5090568/?ref_=rlm   \n",
              "97   https://www.imdb.com/title/tt15789038/?ref_=rlm   \n",
              "98    https://www.imdb.com/title/tt0439572/?ref_=rlm   \n",
              "99    https://www.imdb.com/title/tt1462764/?ref_=rlm   \n",
              "100   https://www.imdb.com/title/tt7890826/?ref_=rlm   \n",
              "\n",
              "                                               sinopse  \n",
              "1    Thor enlists the help of Valkyrie, Korg and ex...  \n",
              "2    A teenage girl decides to replace her controll...  \n",
              "3    The last survivor of a band of warriors is ens...  \n",
              "4    A woman who raised herself in the marshes of t...  \n",
              "5    Hank, a loveable dog with a head full of dream...  \n",
              "..                                                 ...  \n",
              "96   Plot unknown. Reportedly based on the 'Transfo...  \n",
              "97   Follows Ember and Wade, in a city where fire-,...  \n",
              "98   The plot is unknown. Feature film based on the...  \n",
              "99                   The plot is unknown at this time.  \n",
              "100  This is an action film following the adventure...  \n",
              "\n",
              "[100 rows x 4 columns]"
            ],
            "text/html": [
              "\n",
              "  <div id=\"df-d439ddfd-789b-4cbf-8270-97a4a03fdd80\">\n",
              "    <div class=\"colab-df-container\">\n",
              "      <div>\n",
              "<style scoped>\n",
              "    .dataframe tbody tr th:only-of-type {\n",
              "        vertical-align: middle;\n",
              "    }\n",
              "\n",
              "    .dataframe tbody tr th {\n",
              "        vertical-align: top;\n",
              "    }\n",
              "\n",
              "    .dataframe thead th {\n",
              "        text-align: right;\n",
              "    }\n",
              "</style>\n",
              "<table border=\"1\" class=\"dataframe\">\n",
              "  <thead>\n",
              "    <tr style=\"text-align: right;\">\n",
              "      <th></th>\n",
              "      <th>nome</th>\n",
              "      <th>data lancamento</th>\n",
              "      <th>url</th>\n",
              "      <th>sinopse</th>\n",
              "    </tr>\n",
              "  </thead>\n",
              "  <tbody>\n",
              "    <tr>\n",
              "      <th>1</th>\n",
              "      <td>Thor: Love and Thunder</td>\n",
              "      <td>08 July 2022</td>\n",
              "      <td>https://www.imdb.com/title/tt10648342/?ref_=rlm</td>\n",
              "      <td>Thor enlists the help of Valkyrie, Korg and ex...</td>\n",
              "    </tr>\n",
              "    <tr>\n",
              "      <th>2</th>\n",
              "      <td>Murina</td>\n",
              "      <td>08 July 2022</td>\n",
              "      <td>https://www.imdb.com/title/tt8434110/?ref_=rlm</td>\n",
              "      <td>A teenage girl decides to replace her controll...</td>\n",
              "    </tr>\n",
              "    <tr>\n",
              "      <th>3</th>\n",
              "      <td>The Deer King</td>\n",
              "      <td>13 July 2022</td>\n",
              "      <td>https://www.imdb.com/title/tt11417856/?ref_=rlm</td>\n",
              "      <td>The last survivor of a band of warriors is ens...</td>\n",
              "    </tr>\n",
              "    <tr>\n",
              "      <th>4</th>\n",
              "      <td>Where the Crawdads Sing</td>\n",
              "      <td>15 July 2022</td>\n",
              "      <td>https://www.imdb.com/title/tt9411972/?ref_=rlm</td>\n",
              "      <td>A woman who raised herself in the marshes of t...</td>\n",
              "    </tr>\n",
              "    <tr>\n",
              "      <th>5</th>\n",
              "      <td>Paws of Fury: The Legend of Hank</td>\n",
              "      <td>15 July 2022</td>\n",
              "      <td>https://www.imdb.com/title/tt4428398/?ref_=rlm</td>\n",
              "      <td>Hank, a loveable dog with a head full of dream...</td>\n",
              "    </tr>\n",
              "    <tr>\n",
              "      <th>...</th>\n",
              "      <td>...</td>\n",
              "      <td>...</td>\n",
              "      <td>...</td>\n",
              "      <td>...</td>\n",
              "    </tr>\n",
              "    <tr>\n",
              "      <th>96</th>\n",
              "      <td>Transformers: Rise of the Beasts</td>\n",
              "      <td>09 June 2023</td>\n",
              "      <td>https://www.imdb.com/title/tt5090568/?ref_=rlm</td>\n",
              "      <td>Plot unknown. Reportedly based on the 'Transfo...</td>\n",
              "    </tr>\n",
              "    <tr>\n",
              "      <th>97</th>\n",
              "      <td>Elemental</td>\n",
              "      <td>16 June 2023</td>\n",
              "      <td>https://www.imdb.com/title/tt15789038/?ref_=rlm</td>\n",
              "      <td>Follows Ember and Wade, in a city where fire-,...</td>\n",
              "    </tr>\n",
              "    <tr>\n",
              "      <th>98</th>\n",
              "      <td>The Flash</td>\n",
              "      <td>23 June 2023</td>\n",
              "      <td>https://www.imdb.com/title/tt0439572/?ref_=rlm</td>\n",
              "      <td>The plot is unknown. Feature film based on the...</td>\n",
              "    </tr>\n",
              "    <tr>\n",
              "      <th>99</th>\n",
              "      <td>Indiana Jones 5</td>\n",
              "      <td>30 June 2023</td>\n",
              "      <td>https://www.imdb.com/title/tt1462764/?ref_=rlm</td>\n",
              "      <td>The plot is unknown at this time.</td>\n",
              "    </tr>\n",
              "    <tr>\n",
              "      <th>100</th>\n",
              "      <td>Naya Legend of the Golden Dolphin</td>\n",
              "      <td>30 June 2023</td>\n",
              "      <td>https://www.imdb.com/title/tt7890826/?ref_=rlm</td>\n",
              "      <td>This is an action film following the adventure...</td>\n",
              "    </tr>\n",
              "  </tbody>\n",
              "</table>\n",
              "<p>100 rows × 4 columns</p>\n",
              "</div>\n",
              "      <button class=\"colab-df-convert\" onclick=\"convertToInteractive('df-d439ddfd-789b-4cbf-8270-97a4a03fdd80')\"\n",
              "              title=\"Convert this dataframe to an interactive table.\"\n",
              "              style=\"display:none;\">\n",
              "        \n",
              "  <svg xmlns=\"http://www.w3.org/2000/svg\" height=\"24px\"viewBox=\"0 0 24 24\"\n",
              "       width=\"24px\">\n",
              "    <path d=\"M0 0h24v24H0V0z\" fill=\"none\"/>\n",
              "    <path d=\"M18.56 5.44l.94 2.06.94-2.06 2.06-.94-2.06-.94-.94-2.06-.94 2.06-2.06.94zm-11 1L8.5 8.5l.94-2.06 2.06-.94-2.06-.94L8.5 2.5l-.94 2.06-2.06.94zm10 10l.94 2.06.94-2.06 2.06-.94-2.06-.94-.94-2.06-.94 2.06-2.06.94z\"/><path d=\"M17.41 7.96l-1.37-1.37c-.4-.4-.92-.59-1.43-.59-.52 0-1.04.2-1.43.59L10.3 9.45l-7.72 7.72c-.78.78-.78 2.05 0 2.83L4 21.41c.39.39.9.59 1.41.59.51 0 1.02-.2 1.41-.59l7.78-7.78 2.81-2.81c.8-.78.8-2.07 0-2.86zM5.41 20L4 18.59l7.72-7.72 1.47 1.35L5.41 20z\"/>\n",
              "  </svg>\n",
              "      </button>\n",
              "      \n",
              "  <style>\n",
              "    .colab-df-container {\n",
              "      display:flex;\n",
              "      flex-wrap:wrap;\n",
              "      gap: 12px;\n",
              "    }\n",
              "\n",
              "    .colab-df-convert {\n",
              "      background-color: #E8F0FE;\n",
              "      border: none;\n",
              "      border-radius: 50%;\n",
              "      cursor: pointer;\n",
              "      display: none;\n",
              "      fill: #1967D2;\n",
              "      height: 32px;\n",
              "      padding: 0 0 0 0;\n",
              "      width: 32px;\n",
              "    }\n",
              "\n",
              "    .colab-df-convert:hover {\n",
              "      background-color: #E2EBFA;\n",
              "      box-shadow: 0px 1px 2px rgba(60, 64, 67, 0.3), 0px 1px 3px 1px rgba(60, 64, 67, 0.15);\n",
              "      fill: #174EA6;\n",
              "    }\n",
              "\n",
              "    [theme=dark] .colab-df-convert {\n",
              "      background-color: #3B4455;\n",
              "      fill: #D2E3FC;\n",
              "    }\n",
              "\n",
              "    [theme=dark] .colab-df-convert:hover {\n",
              "      background-color: #434B5C;\n",
              "      box-shadow: 0px 1px 3px 1px rgba(0, 0, 0, 0.15);\n",
              "      filter: drop-shadow(0px 1px 2px rgba(0, 0, 0, 0.3));\n",
              "      fill: #FFFFFF;\n",
              "    }\n",
              "  </style>\n",
              "\n",
              "      <script>\n",
              "        const buttonEl =\n",
              "          document.querySelector('#df-d439ddfd-789b-4cbf-8270-97a4a03fdd80 button.colab-df-convert');\n",
              "        buttonEl.style.display =\n",
              "          google.colab.kernel.accessAllowed ? 'block' : 'none';\n",
              "\n",
              "        async function convertToInteractive(key) {\n",
              "          const element = document.querySelector('#df-d439ddfd-789b-4cbf-8270-97a4a03fdd80');\n",
              "          const dataTable =\n",
              "            await google.colab.kernel.invokeFunction('convertToInteractive',\n",
              "                                                     [key], {});\n",
              "          if (!dataTable) return;\n",
              "\n",
              "          const docLinkHtml = 'Like what you see? Visit the ' +\n",
              "            '<a target=\"_blank\" href=https://colab.research.google.com/notebooks/data_table.ipynb>data table notebook</a>'\n",
              "            + ' to learn more about interactive tables.';\n",
              "          element.innerHTML = '';\n",
              "          dataTable['output_type'] = 'display_data';\n",
              "          await google.colab.output.renderOutput(dataTable, element);\n",
              "          const docLink = document.createElement('div');\n",
              "          docLink.innerHTML = docLinkHtml;\n",
              "          element.appendChild(docLink);\n",
              "        }\n",
              "      </script>\n",
              "    </div>\n",
              "  </div>\n",
              "  "
            ]
          },
          "metadata": {},
          "execution_count": 76
        }
      ]
    }
  ]
}